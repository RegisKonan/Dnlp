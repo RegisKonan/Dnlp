{
  "nbformat": 4,
  "nbformat_minor": 0,
  "metadata": {
    "colab": {
      "provenance": [],
      "authorship_tag": "ABX9TyPwfYvF8KLiqcvCICaoaY7a",
      "include_colab_link": true
    },
    "kernelspec": {
      "name": "python3",
      "display_name": "Python 3"
    },
    "language_info": {
      "name": "python"
    }
  },
  "cells": [
    {
      "cell_type": "markdown",
      "metadata": {
        "id": "view-in-github",
        "colab_type": "text"
      },
      "source": [
        "<a href=\"https://colab.research.google.com/github/RegisKonan/Dnlp/blob/main/regis_konan_gpt_from_scratch.ipynb\" target=\"_parent\"><img src=\"https://colab.research.google.com/assets/colab-badge.svg\" alt=\"Open In Colab\"/></a>"
      ]
    },
    {
      "cell_type": "markdown",
      "source": [
        "## Building a GPT"
      ],
      "metadata": {
        "id": "Cr5C6cBaopIY"
      }
    },
    {
      "cell_type": "code",
      "execution_count": 1,
      "metadata": {
        "colab": {
          "base_uri": "https://localhost:8080/"
        },
        "id": "3juG8qYgi783",
        "outputId": "3a3657c7-a8fa-4b75-9e89-0e89c56516d3"
      },
      "outputs": [
        {
          "output_type": "stream",
          "name": "stdout",
          "text": [
            "--2023-06-25 21:53:52--  https://raw.githubusercontent.com/karpathy/char-rnn/master/data/tinyshakespeare/input.txt\n",
            "Resolving raw.githubusercontent.com (raw.githubusercontent.com)... 185.199.108.133, 185.199.109.133, 185.199.110.133, ...\n",
            "Connecting to raw.githubusercontent.com (raw.githubusercontent.com)|185.199.108.133|:443... connected.\n",
            "HTTP request sent, awaiting response... 200 OK\n",
            "Length: 1115394 (1.1M) [text/plain]\n",
            "Saving to: ‘input.txt’\n",
            "\n",
            "\rinput.txt             0%[                    ]       0  --.-KB/s               \rinput.txt           100%[===================>]   1.06M  --.-KB/s    in 0.009s  \n",
            "\n",
            "2023-06-25 21:53:52 (122 MB/s) - ‘input.txt’ saved [1115394/1115394]\n",
            "\n"
          ]
        }
      ],
      "source": [
        "# We always  start with a dataset to train on. Let's download the tiny shakespeare dataset\n",
        "!wget https://raw.githubusercontent.com/karpathy/char-rnn/master/data/tinyshakespeare/input.txt"
      ]
    },
    {
      "cell_type": "code",
      "source": [
        "# read it in to inspect it\n",
        "with open('input.txt', 'r', encoding='utf-8') as f:\n",
        "    text = f.read()\n",
        "print(\"length of dataset in characters: \", len(text))"
      ],
      "metadata": {
        "colab": {
          "base_uri": "https://localhost:8080/"
        },
        "id": "si6fdiPejHXF",
        "outputId": "3d0d834e-55ff-424d-fbc9-49083bd8d243"
      },
      "execution_count": 3,
      "outputs": [
        {
          "output_type": "stream",
          "name": "stdout",
          "text": [
            "length of dataset in characters:  1115394\n"
          ]
        }
      ]
    },
    {
      "cell_type": "code",
      "source": [
        "# let's look at the first 1000 characters\n",
        "print(text[:1000])"
      ],
      "metadata": {
        "colab": {
          "base_uri": "https://localhost:8080/"
        },
        "id": "Bu863mbJjMUO",
        "outputId": "65115100-c124-4571-be0c-59379e35a04f"
      },
      "execution_count": 4,
      "outputs": [
        {
          "output_type": "stream",
          "name": "stdout",
          "text": [
            "First Citizen:\n",
            "Before we proceed any further, hear me speak.\n",
            "\n",
            "All:\n",
            "Speak, speak.\n",
            "\n",
            "First Citizen:\n",
            "You are all resolved rather to die than to famish?\n",
            "\n",
            "All:\n",
            "Resolved. resolved.\n",
            "\n",
            "First Citizen:\n",
            "First, you know Caius Marcius is chief enemy to the people.\n",
            "\n",
            "All:\n",
            "We know't, we know't.\n",
            "\n",
            "First Citizen:\n",
            "Let us kill him, and we'll have corn at our own price.\n",
            "Is't a verdict?\n",
            "\n",
            "All:\n",
            "No more talking on't; let it be done: away, away!\n",
            "\n",
            "Second Citizen:\n",
            "One word, good citizens.\n",
            "\n",
            "First Citizen:\n",
            "We are accounted poor citizens, the patricians good.\n",
            "What authority surfeits on would relieve us: if they\n",
            "would yield us but the superfluity, while it were\n",
            "wholesome, we might guess they relieved us humanely;\n",
            "but they think we are too dear: the leanness that\n",
            "afflicts us, the object of our misery, is as an\n",
            "inventory to particularise their abundance; our\n",
            "sufferance is a gain to them Let us revenge this with\n",
            "our pikes, ere we become rakes: for the gods know I\n",
            "speak this in hunger for bread, not in thirst for revenge.\n",
            "\n",
            "\n"
          ]
        }
      ]
    },
    {
      "cell_type": "code",
      "source": [
        "# here are all the unique characters that occur in this text\n",
        "char_dict = {}  # Create an empty dictionary to store unique characters\n",
        "for char in text:  # Iterate over each character in the text\n",
        "    char_dict[char] = 1  # Assign a value of 1 to each character in the dictionary\n",
        "chars = sorted(char_dict.keys())  # Get the keys (characters) from the dictionary and sort them\n",
        "vocab_size = len(chars)  # Determine the vocabulary size by getting the length of the sorted characters\n",
        "print(''.join(chars))  # Print the sorted characters as a string\n",
        "print(vocab_size)  # Print the vocabulary size"
      ],
      "metadata": {
        "colab": {
          "base_uri": "https://localhost:8080/"
        },
        "id": "n8GGV5E3jXf1",
        "outputId": "e2d7acf5-9f61-4e3b-864e-bc31b6ecd332"
      },
      "execution_count": 5,
      "outputs": [
        {
          "output_type": "stream",
          "name": "stdout",
          "text": [
            "\n",
            " !$&',-.3:;?ABCDEFGHIJKLMNOPQRSTUVWXYZabcdefghijklmnopqrstuvwxyz\n",
            "65\n"
          ]
        }
      ]
    },
    {
      "cell_type": "code",
      "source": [
        "# create a mapping from characters to integers\n",
        "stoi = { ch:i for i,ch in enumerate(chars) }\n",
        "# create a mapping from integers to characters\n",
        "itos = { i:ch for i,ch in enumerate(chars) }\n",
        "encode = lambda s: [stoi[c] for c in s] # encoder: take a string, output a list of integers\n",
        "decode = lambda l: ''.join([itos[i] for i in l]) # decoder: take a list of integers, output a string\n",
        "# Example usage\n",
        "print(encode(\"hello regis\"))\n",
        "print(decode(encode(\"hello regis\")))"
      ],
      "metadata": {
        "colab": {
          "base_uri": "https://localhost:8080/"
        },
        "id": "RUWg0aVtjctR",
        "outputId": "3773c66b-b36d-42e4-d6aa-0e251643d933"
      },
      "execution_count": 8,
      "outputs": [
        {
          "output_type": "stream",
          "name": "stdout",
          "text": [
            "[46, 43, 50, 50, 53, 1, 56, 43, 45, 47, 57]\n",
            "hello regis\n"
          ]
        }
      ]
    },
    {
      "cell_type": "code",
      "source": [
        "# let's now encode the entire text dataset and store it into a torch.Tensor\n",
        "import torch # we use PyTorch: https://pytorch.org\n",
        "data = torch.tensor(encode(text), dtype=torch.long)\n",
        "print(data.shape, data.dtype)\n",
        "print(data[:1000]) # the 1000 characters we looked at earier will to the GPT look like this"
      ],
      "metadata": {
        "colab": {
          "base_uri": "https://localhost:8080/"
        },
        "id": "UzSJyboWjgoH",
        "outputId": "4617cc93-9ce6-4467-ffe1-882c262ed068"
      },
      "execution_count": 9,
      "outputs": [
        {
          "output_type": "stream",
          "name": "stdout",
          "text": [
            "torch.Size([1115394]) torch.int64\n",
            "tensor([18, 47, 56, 57, 58,  1, 15, 47, 58, 47, 64, 43, 52, 10,  0, 14, 43, 44,\n",
            "        53, 56, 43,  1, 61, 43,  1, 54, 56, 53, 41, 43, 43, 42,  1, 39, 52, 63,\n",
            "         1, 44, 59, 56, 58, 46, 43, 56,  6,  1, 46, 43, 39, 56,  1, 51, 43,  1,\n",
            "        57, 54, 43, 39, 49,  8,  0,  0, 13, 50, 50, 10,  0, 31, 54, 43, 39, 49,\n",
            "         6,  1, 57, 54, 43, 39, 49,  8,  0,  0, 18, 47, 56, 57, 58,  1, 15, 47,\n",
            "        58, 47, 64, 43, 52, 10,  0, 37, 53, 59,  1, 39, 56, 43,  1, 39, 50, 50,\n",
            "         1, 56, 43, 57, 53, 50, 60, 43, 42,  1, 56, 39, 58, 46, 43, 56,  1, 58,\n",
            "        53,  1, 42, 47, 43,  1, 58, 46, 39, 52,  1, 58, 53,  1, 44, 39, 51, 47,\n",
            "        57, 46, 12,  0,  0, 13, 50, 50, 10,  0, 30, 43, 57, 53, 50, 60, 43, 42,\n",
            "         8,  1, 56, 43, 57, 53, 50, 60, 43, 42,  8,  0,  0, 18, 47, 56, 57, 58,\n",
            "         1, 15, 47, 58, 47, 64, 43, 52, 10,  0, 18, 47, 56, 57, 58,  6,  1, 63,\n",
            "        53, 59,  1, 49, 52, 53, 61,  1, 15, 39, 47, 59, 57,  1, 25, 39, 56, 41,\n",
            "        47, 59, 57,  1, 47, 57,  1, 41, 46, 47, 43, 44,  1, 43, 52, 43, 51, 63,\n",
            "         1, 58, 53,  1, 58, 46, 43,  1, 54, 43, 53, 54, 50, 43,  8,  0,  0, 13,\n",
            "        50, 50, 10,  0, 35, 43,  1, 49, 52, 53, 61,  5, 58,  6,  1, 61, 43,  1,\n",
            "        49, 52, 53, 61,  5, 58,  8,  0,  0, 18, 47, 56, 57, 58,  1, 15, 47, 58,\n",
            "        47, 64, 43, 52, 10,  0, 24, 43, 58,  1, 59, 57,  1, 49, 47, 50, 50,  1,\n",
            "        46, 47, 51,  6,  1, 39, 52, 42,  1, 61, 43,  5, 50, 50,  1, 46, 39, 60,\n",
            "        43,  1, 41, 53, 56, 52,  1, 39, 58,  1, 53, 59, 56,  1, 53, 61, 52,  1,\n",
            "        54, 56, 47, 41, 43,  8,  0, 21, 57,  5, 58,  1, 39,  1, 60, 43, 56, 42,\n",
            "        47, 41, 58, 12,  0,  0, 13, 50, 50, 10,  0, 26, 53,  1, 51, 53, 56, 43,\n",
            "         1, 58, 39, 50, 49, 47, 52, 45,  1, 53, 52,  5, 58, 11,  1, 50, 43, 58,\n",
            "         1, 47, 58,  1, 40, 43,  1, 42, 53, 52, 43, 10,  1, 39, 61, 39, 63,  6,\n",
            "         1, 39, 61, 39, 63,  2,  0,  0, 31, 43, 41, 53, 52, 42,  1, 15, 47, 58,\n",
            "        47, 64, 43, 52, 10,  0, 27, 52, 43,  1, 61, 53, 56, 42,  6,  1, 45, 53,\n",
            "        53, 42,  1, 41, 47, 58, 47, 64, 43, 52, 57,  8,  0,  0, 18, 47, 56, 57,\n",
            "        58,  1, 15, 47, 58, 47, 64, 43, 52, 10,  0, 35, 43,  1, 39, 56, 43,  1,\n",
            "        39, 41, 41, 53, 59, 52, 58, 43, 42,  1, 54, 53, 53, 56,  1, 41, 47, 58,\n",
            "        47, 64, 43, 52, 57,  6,  1, 58, 46, 43,  1, 54, 39, 58, 56, 47, 41, 47,\n",
            "        39, 52, 57,  1, 45, 53, 53, 42,  8,  0, 35, 46, 39, 58,  1, 39, 59, 58,\n",
            "        46, 53, 56, 47, 58, 63,  1, 57, 59, 56, 44, 43, 47, 58, 57,  1, 53, 52,\n",
            "         1, 61, 53, 59, 50, 42,  1, 56, 43, 50, 47, 43, 60, 43,  1, 59, 57, 10,\n",
            "         1, 47, 44,  1, 58, 46, 43, 63,  0, 61, 53, 59, 50, 42,  1, 63, 47, 43,\n",
            "        50, 42,  1, 59, 57,  1, 40, 59, 58,  1, 58, 46, 43,  1, 57, 59, 54, 43,\n",
            "        56, 44, 50, 59, 47, 58, 63,  6,  1, 61, 46, 47, 50, 43,  1, 47, 58,  1,\n",
            "        61, 43, 56, 43,  0, 61, 46, 53, 50, 43, 57, 53, 51, 43,  6,  1, 61, 43,\n",
            "         1, 51, 47, 45, 46, 58,  1, 45, 59, 43, 57, 57,  1, 58, 46, 43, 63,  1,\n",
            "        56, 43, 50, 47, 43, 60, 43, 42,  1, 59, 57,  1, 46, 59, 51, 39, 52, 43,\n",
            "        50, 63, 11,  0, 40, 59, 58,  1, 58, 46, 43, 63,  1, 58, 46, 47, 52, 49,\n",
            "         1, 61, 43,  1, 39, 56, 43,  1, 58, 53, 53,  1, 42, 43, 39, 56, 10,  1,\n",
            "        58, 46, 43,  1, 50, 43, 39, 52, 52, 43, 57, 57,  1, 58, 46, 39, 58,  0,\n",
            "        39, 44, 44, 50, 47, 41, 58, 57,  1, 59, 57,  6,  1, 58, 46, 43,  1, 53,\n",
            "        40, 48, 43, 41, 58,  1, 53, 44,  1, 53, 59, 56,  1, 51, 47, 57, 43, 56,\n",
            "        63,  6,  1, 47, 57,  1, 39, 57,  1, 39, 52,  0, 47, 52, 60, 43, 52, 58,\n",
            "        53, 56, 63,  1, 58, 53,  1, 54, 39, 56, 58, 47, 41, 59, 50, 39, 56, 47,\n",
            "        57, 43,  1, 58, 46, 43, 47, 56,  1, 39, 40, 59, 52, 42, 39, 52, 41, 43,\n",
            "        11,  1, 53, 59, 56,  0, 57, 59, 44, 44, 43, 56, 39, 52, 41, 43,  1, 47,\n",
            "        57,  1, 39,  1, 45, 39, 47, 52,  1, 58, 53,  1, 58, 46, 43, 51,  1, 24,\n",
            "        43, 58,  1, 59, 57,  1, 56, 43, 60, 43, 52, 45, 43,  1, 58, 46, 47, 57,\n",
            "         1, 61, 47, 58, 46,  0, 53, 59, 56,  1, 54, 47, 49, 43, 57,  6,  1, 43,\n",
            "        56, 43,  1, 61, 43,  1, 40, 43, 41, 53, 51, 43,  1, 56, 39, 49, 43, 57,\n",
            "        10,  1, 44, 53, 56,  1, 58, 46, 43,  1, 45, 53, 42, 57,  1, 49, 52, 53,\n",
            "        61,  1, 21,  0, 57, 54, 43, 39, 49,  1, 58, 46, 47, 57,  1, 47, 52,  1,\n",
            "        46, 59, 52, 45, 43, 56,  1, 44, 53, 56,  1, 40, 56, 43, 39, 42,  6,  1,\n",
            "        52, 53, 58,  1, 47, 52,  1, 58, 46, 47, 56, 57, 58,  1, 44, 53, 56,  1,\n",
            "        56, 43, 60, 43, 52, 45, 43,  8,  0,  0])\n"
          ]
        }
      ]
    },
    {
      "cell_type": "code",
      "source": [
        "# Let's now split up the data into train and validation sets\n",
        "n = int(0.9*len(data)) # first 90% will be train, rest val\n",
        "train_data = data[:n]\n",
        "val_data = data[n:]"
      ],
      "metadata": {
        "id": "67qR4bngjoHF"
      },
      "execution_count": 10,
      "outputs": []
    },
    {
      "cell_type": "code",
      "source": [
        "block_size = 10\n",
        "train_data[:block_size+1]"
      ],
      "metadata": {
        "colab": {
          "base_uri": "https://localhost:8080/"
        },
        "id": "Wdv0tf0TkJse",
        "outputId": "5b0d88fe-ffc5-4d7a-db6d-0f6723c82cc1"
      },
      "execution_count": 12,
      "outputs": [
        {
          "output_type": "execute_result",
          "data": {
            "text/plain": [
              "tensor([18, 47, 56, 57, 58,  1, 15, 47, 58, 47, 64])"
            ]
          },
          "metadata": {},
          "execution_count": 12
        }
      ]
    },
    {
      "cell_type": "code",
      "source": [
        "x = train_data[:block_size] # first block_size\n",
        "y = train_data[1:block_size+1] # y is a next block_size\n",
        "for t in range(block_size):\n",
        "    context = x[:t+1]\n",
        "    target = y[t]\n",
        "    print(f\"when input is {context} the target: {target}\")"
      ],
      "metadata": {
        "colab": {
          "base_uri": "https://localhost:8080/"
        },
        "id": "mvMs_vPKkMcJ",
        "outputId": "b148032c-fd7d-4a86-fbf9-38b2b4d1e158"
      },
      "execution_count": 13,
      "outputs": [
        {
          "output_type": "stream",
          "name": "stdout",
          "text": [
            "when input is tensor([18]) the target: 47\n",
            "when input is tensor([18, 47]) the target: 56\n",
            "when input is tensor([18, 47, 56]) the target: 57\n",
            "when input is tensor([18, 47, 56, 57]) the target: 58\n",
            "when input is tensor([18, 47, 56, 57, 58]) the target: 1\n",
            "when input is tensor([18, 47, 56, 57, 58,  1]) the target: 15\n",
            "when input is tensor([18, 47, 56, 57, 58,  1, 15]) the target: 47\n",
            "when input is tensor([18, 47, 56, 57, 58,  1, 15, 47]) the target: 58\n",
            "when input is tensor([18, 47, 56, 57, 58,  1, 15, 47, 58]) the target: 47\n",
            "when input is tensor([18, 47, 56, 57, 58,  1, 15, 47, 58, 47]) the target: 64\n"
          ]
        }
      ]
    },
    {
      "cell_type": "code",
      "source": [
        "torch.manual_seed(1337)\n",
        "batch_size = 4 # how many independent sequences will we process in parallel?\n",
        "block_size = 10 # what is the maximum context length for predictions?\n",
        "\n",
        "def get_batch(split):\n",
        "    # generate a small batch of data of inputs x and targets y\n",
        "    data = train_data if split == 'train' else val_data\n",
        "    ix = torch.randint(len(data) - block_size, (batch_size,))\n",
        "    x = torch.stack([data[i:i+block_size] for i in ix])\n",
        "    y = torch.stack([data[i+1:i+block_size+1] for i in ix])\n",
        "    return x, y\n",
        "\n",
        "xb, yb = get_batch('train')\n",
        "print('inputs:')\n",
        "print(xb.shape)\n",
        "print(xb)\n",
        "print('targets:')\n",
        "print(yb.shape)\n",
        "print(yb)\n",
        "\n",
        "print('----')\n",
        "\n",
        "for b in range(batch_size): # batch dimension\n",
        "    for t in range(block_size): # time dimension\n",
        "        context = xb[b, :t+1]\n",
        "        target = yb[b,t]\n",
        "        print(f\"when input is {context.tolist()} the target: {target}\")"
      ],
      "metadata": {
        "colab": {
          "base_uri": "https://localhost:8080/"
        },
        "id": "LwOKJjVUkScN",
        "outputId": "fc568328-d8a4-4bdf-e1cc-1893a52534f8"
      },
      "execution_count": 14,
      "outputs": [
        {
          "output_type": "stream",
          "name": "stdout",
          "text": [
            "inputs:\n",
            "torch.Size([4, 10])\n",
            "tensor([[56, 41, 46,  1, 53,  5,  1, 58, 46, 43],\n",
            "        [14, 33, 15, 23, 21, 26, 19, 20, 13, 25],\n",
            "        [58, 46, 43, 56, 10,  0, 14, 59, 58,  1],\n",
            "        [47, 60, 43,  1, 51, 43,  1, 58, 46, 63]])\n",
            "targets:\n",
            "torch.Size([4, 10])\n",
            "tensor([[41, 46,  1, 53,  5,  1, 58, 46, 43,  1],\n",
            "        [33, 15, 23, 21, 26, 19, 20, 13, 25, 10],\n",
            "        [46, 43, 56, 10,  0, 14, 59, 58,  1, 21],\n",
            "        [60, 43,  1, 51, 43,  1, 58, 46, 63,  1]])\n",
            "----\n",
            "when input is [56] the target: 41\n",
            "when input is [56, 41] the target: 46\n",
            "when input is [56, 41, 46] the target: 1\n",
            "when input is [56, 41, 46, 1] the target: 53\n",
            "when input is [56, 41, 46, 1, 53] the target: 5\n",
            "when input is [56, 41, 46, 1, 53, 5] the target: 1\n",
            "when input is [56, 41, 46, 1, 53, 5, 1] the target: 58\n",
            "when input is [56, 41, 46, 1, 53, 5, 1, 58] the target: 46\n",
            "when input is [56, 41, 46, 1, 53, 5, 1, 58, 46] the target: 43\n",
            "when input is [56, 41, 46, 1, 53, 5, 1, 58, 46, 43] the target: 1\n",
            "when input is [14] the target: 33\n",
            "when input is [14, 33] the target: 15\n",
            "when input is [14, 33, 15] the target: 23\n",
            "when input is [14, 33, 15, 23] the target: 21\n",
            "when input is [14, 33, 15, 23, 21] the target: 26\n",
            "when input is [14, 33, 15, 23, 21, 26] the target: 19\n",
            "when input is [14, 33, 15, 23, 21, 26, 19] the target: 20\n",
            "when input is [14, 33, 15, 23, 21, 26, 19, 20] the target: 13\n",
            "when input is [14, 33, 15, 23, 21, 26, 19, 20, 13] the target: 25\n",
            "when input is [14, 33, 15, 23, 21, 26, 19, 20, 13, 25] the target: 10\n",
            "when input is [58] the target: 46\n",
            "when input is [58, 46] the target: 43\n",
            "when input is [58, 46, 43] the target: 56\n",
            "when input is [58, 46, 43, 56] the target: 10\n",
            "when input is [58, 46, 43, 56, 10] the target: 0\n",
            "when input is [58, 46, 43, 56, 10, 0] the target: 14\n",
            "when input is [58, 46, 43, 56, 10, 0, 14] the target: 59\n",
            "when input is [58, 46, 43, 56, 10, 0, 14, 59] the target: 58\n",
            "when input is [58, 46, 43, 56, 10, 0, 14, 59, 58] the target: 1\n",
            "when input is [58, 46, 43, 56, 10, 0, 14, 59, 58, 1] the target: 21\n",
            "when input is [47] the target: 60\n",
            "when input is [47, 60] the target: 43\n",
            "when input is [47, 60, 43] the target: 1\n",
            "when input is [47, 60, 43, 1] the target: 51\n",
            "when input is [47, 60, 43, 1, 51] the target: 43\n",
            "when input is [47, 60, 43, 1, 51, 43] the target: 1\n",
            "when input is [47, 60, 43, 1, 51, 43, 1] the target: 58\n",
            "when input is [47, 60, 43, 1, 51, 43, 1, 58] the target: 46\n",
            "when input is [47, 60, 43, 1, 51, 43, 1, 58, 46] the target: 63\n",
            "when input is [47, 60, 43, 1, 51, 43, 1, 58, 46, 63] the target: 1\n"
          ]
        }
      ]
    },
    {
      "cell_type": "code",
      "source": [
        "print(xb) # our input to the transformer"
      ],
      "metadata": {
        "colab": {
          "base_uri": "https://localhost:8080/"
        },
        "id": "pOpy5JxLkZZp",
        "outputId": "279ef23f-ecd4-48c7-9dc1-1bb7db0ca587"
      },
      "execution_count": 15,
      "outputs": [
        {
          "output_type": "stream",
          "name": "stdout",
          "text": [
            "tensor([[56, 41, 46,  1, 53,  5,  1, 58, 46, 43],\n",
            "        [14, 33, 15, 23, 21, 26, 19, 20, 13, 25],\n",
            "        [58, 46, 43, 56, 10,  0, 14, 59, 58,  1],\n",
            "        [47, 60, 43,  1, 51, 43,  1, 58, 46, 63]])\n"
          ]
        }
      ]
    },
    {
      "cell_type": "code",
      "source": [
        "import torch\n",
        "import torch.nn as nn\n",
        "from torch.nn import functional as F\n",
        "torch.manual_seed(1337)\n",
        "\n",
        "class BigramLanguageModel(nn.Module):\n",
        "\n",
        "    def __init__(self, vocab_size):\n",
        "        super().__init__()\n",
        "        # each token directly reads off the logits for the next token from a lookup table\n",
        "        self.token_embedding_table = nn.Embedding(vocab_size, vocab_size)\n",
        "\n",
        "    def forward(self, idx, targets=None):\n",
        "\n",
        "        # idx and targets are both (B,T) tensor of integers\n",
        "        logits = self.token_embedding_table(idx) # (B,T,C)\n",
        "\n",
        "        if targets is None:\n",
        "            loss = None\n",
        "        else:\n",
        "            B, T, C = logits.shape\n",
        "            logits = logits.view(B*T, C)\n",
        "            targets = targets.view(B*T)\n",
        "            loss = F.cross_entropy(logits, targets)\n",
        "\n",
        "        return logits, loss\n",
        "\n",
        "    def generate(self, idx, max_new_tokens):\n",
        "        # idx is (B, T) array of indices in the current context\n",
        "        for _ in range(max_new_tokens):\n",
        "            # get the predictions\n",
        "            logits, loss = self(idx)\n",
        "            # focus only on the last time step\n",
        "            logits = logits[:, -1, :] # becomes (B, C)\n",
        "            # apply softmax to get probabilities\n",
        "            probs = F.softmax(logits, dim=-1) # (B, C)\n",
        "            # sample from the distribution\n",
        "            idx_next = torch.multinomial(probs, num_samples=1) # (B, 1)\n",
        "            # append sampled index to the running sequence\n",
        "            idx = torch.cat((idx, idx_next), dim=1) # (B, T+1)\n",
        "        return idx\n",
        "\n",
        "m = BigramLanguageModel(vocab_size)\n",
        "logits, loss = m(xb, yb)\n",
        "print(logits.shape)\n",
        "print(loss)\n",
        "\n",
        "print(decode(m.generate(idx = torch.zeros((1, 1), dtype=torch.long), max_new_tokens=100)[0].tolist()))"
      ],
      "metadata": {
        "colab": {
          "base_uri": "https://localhost:8080/"
        },
        "id": "Z-PJIhUckfmq",
        "outputId": "2112a416-e9b0-40f3-e9d0-e20b5e8000ea"
      },
      "execution_count": 16,
      "outputs": [
        {
          "output_type": "stream",
          "name": "stdout",
          "text": [
            "torch.Size([40, 65])\n",
            "tensor(4.6039, grad_fn=<NllLossBackward0>)\n",
            "\n",
            "Sr?qP-QWktXoL&jLDJgOLVz'RIoDqHdhsV&vLLxatjscMpwLERSPyao.qfzs$Ys$zF-w,;eEkzxjgCKFChs!iWW.ObzDnxA Ms$3\n"
          ]
        }
      ]
    },
    {
      "cell_type": "code",
      "source": [
        "# create a PyTorch optimizer\n",
        "optimizer = torch.optim.AdamW(m.parameters(), lr=1e-3)"
      ],
      "metadata": {
        "id": "If-98uhukmtX"
      },
      "execution_count": 17,
      "outputs": []
    },
    {
      "cell_type": "code",
      "source": [
        "batch_size = 64\n",
        "for steps in range(100): # increase number of steps for good results...\n",
        "\n",
        "    # sample a batch of data\n",
        "    xb, yb = get_batch('train')\n",
        "\n",
        "    # evaluate the loss\n",
        "    logits, loss = m(xb, yb)\n",
        "    optimizer.zero_grad(set_to_none=True)\n",
        "    loss.backward()\n",
        "    optimizer.step()\n",
        "\n",
        "print(loss.item())\n"
      ],
      "metadata": {
        "colab": {
          "base_uri": "https://localhost:8080/"
        },
        "id": "ibEXLxy3kw3U",
        "outputId": "919d33ea-efb3-4c4b-c33e-f308ad9797fd"
      },
      "execution_count": 21,
      "outputs": [
        {
          "output_type": "stream",
          "name": "stdout",
          "text": [
            "4.157016277313232\n"
          ]
        }
      ]
    },
    {
      "cell_type": "code",
      "source": [
        "print(decode(m.generate(idx = torch.zeros((1, 1), dtype=torch.long), max_new_tokens=500)[0].tolist()))"
      ],
      "metadata": {
        "colab": {
          "base_uri": "https://localhost:8080/"
        },
        "id": "L-yZR7jBk_J4",
        "outputId": "4182dbcc-0662-49b2-8500-44c34d361329"
      },
      "execution_count": 22,
      "outputs": [
        {
          "output_type": "stream",
          "name": "stdout",
          "text": [
            "\n",
            "tYMO'!eHgjKZRp\n",
            "SF?xhegBKLzYLT fMW:pmn3cuBis$E-KOr.\n",
            "PH-t3'r!LYCE!UepMo';;Aa;AXObHCIoKoi Pyu$zyeAsc;ANm$HBiPylvm;PNY:eYno&Q?nQXJXXE?RnumgmJim;laocxaF.ubsTERSP.\n",
            "JXIvJXXqp$X-TVuCDx;AUgCpxla:wfNZOc3cLt-gLIdWNpUNCHxIoi. IBLwvigwwCLqcBDHxZTXImBSPyr.STpBo'teWJsrJjJQF-U?FofrkhsiHNUSpYzXRmJmaKNlyEsCULt &yMatFa;KuCGSpla!myzeudmbOKVShs&UzrJFvv'cmHIjTWhEGR\n",
            "SqRi\n",
            "I-oiwHWWTHq$zCxlLIbI&!wxx!$Eq-PgQtjr,,sveh-& sAq-CH\n",
            "JsrJduLjuMkR zCbT'jyTosiBylxf\n",
            "\n",
            "xRyuQriN!KuDf s$\n",
            "YphcLERrLK:\n",
            "xEx;AKA paxllg;:CKyKptUyxJyIfA:CbVooi\n"
          ]
        }
      ]
    },
    {
      "cell_type": "markdown",
      "source": [
        "## The mathematical trick in self-attention"
      ],
      "metadata": {
        "id": "bsxG40_alM_d"
      }
    },
    {
      "cell_type": "code",
      "source": [
        "# toy example illustrating how matrix multiplication can be used for a \"weighted aggregation\"\n",
        "torch.manual_seed(42)\n",
        "a = torch.tril(torch.ones(5, 5))\n",
        "a = a / torch.sum(a, 1, keepdim=True)\n",
        "b = torch.randint(5,10,(5,5)).float()\n",
        "c = a @ b\n",
        "print('a=')\n",
        "print(a)\n",
        "print('--')\n",
        "print('b=')\n",
        "print(b)\n",
        "print('--')\n",
        "print('c=')\n",
        "print(c)"
      ],
      "metadata": {
        "colab": {
          "base_uri": "https://localhost:8080/"
        },
        "id": "xGvVWt1JlTuK",
        "outputId": "c95a54b6-c6de-4715-935a-6d48cda4611f"
      },
      "execution_count": 33,
      "outputs": [
        {
          "output_type": "stream",
          "name": "stdout",
          "text": [
            "a=\n",
            "tensor([[1.0000, 0.0000, 0.0000, 0.0000, 0.0000],\n",
            "        [0.5000, 0.5000, 0.0000, 0.0000, 0.0000],\n",
            "        [0.3333, 0.3333, 0.3333, 0.0000, 0.0000],\n",
            "        [0.2500, 0.2500, 0.2500, 0.2500, 0.0000],\n",
            "        [0.2000, 0.2000, 0.2000, 0.2000, 0.2000]])\n",
            "--\n",
            "b=\n",
            "tensor([[7., 7., 6., 9., 6.],\n",
            "        [5., 5., 9., 5., 8.],\n",
            "        [8., 9., 5., 9., 6.],\n",
            "        [7., 5., 5., 7., 6.],\n",
            "        [9., 6., 8., 6., 9.]])\n",
            "--\n",
            "c=\n",
            "tensor([[7.0000, 7.0000, 6.0000, 9.0000, 6.0000],\n",
            "        [6.0000, 6.0000, 7.5000, 7.0000, 7.0000],\n",
            "        [6.6667, 7.0000, 6.6667, 7.6667, 6.6667],\n",
            "        [6.7500, 6.5000, 6.2500, 7.5000, 6.5000],\n",
            "        [7.2000, 6.4000, 6.6000, 7.2000, 7.0000]])\n"
          ]
        }
      ]
    },
    {
      "cell_type": "code",
      "source": [
        "# consider the following toy example:\n",
        "\n",
        "torch.manual_seed(1337)\n",
        "B,T,C = 4,10,9 # batch, time, channels\n",
        "x = torch.randn(B,T,C)\n",
        "x.shape"
      ],
      "metadata": {
        "colab": {
          "base_uri": "https://localhost:8080/"
        },
        "id": "qHuD7YU-lYx3",
        "outputId": "1f536d81-7a28-4538-bf38-8dc1cda7067e"
      },
      "execution_count": 35,
      "outputs": [
        {
          "output_type": "execute_result",
          "data": {
            "text/plain": [
              "torch.Size([4, 10, 9])"
            ]
          },
          "metadata": {},
          "execution_count": 35
        }
      ]
    },
    {
      "cell_type": "code",
      "source": [
        "# We want x[b,t] = mean_{i<=t} x[b,i]\n",
        "xbow = torch.zeros((B,T,C))\n",
        "for b in range(B):\n",
        "    for t in range(T):\n",
        "        xprev = x[b,:t+1] # (t,C)\n",
        "        xbow[b,t] = torch.mean(xprev, 0)\n",
        "# version 2: using matrix multiply for a weighted aggregation\n",
        "wei = torch.tril(torch.ones(T, T))\n",
        "wei = wei / wei.sum(1, keepdim=True)\n",
        "xbow2 = wei @ x # (B, T, T) @ (B, T, C) ----> (B, T, C)\n",
        "torch.allclose(xbow, xbow2)"
      ],
      "metadata": {
        "colab": {
          "base_uri": "https://localhost:8080/"
        },
        "id": "qZcbSMhKmG5i",
        "outputId": "b94472c5-13a3-4380-f958-b98159afaaa6"
      },
      "execution_count": 37,
      "outputs": [
        {
          "output_type": "execute_result",
          "data": {
            "text/plain": [
              "True"
            ]
          },
          "metadata": {},
          "execution_count": 37
        }
      ]
    },
    {
      "cell_type": "code",
      "source": [
        "# version 3: use Softmax\n",
        "tril = torch.tril(torch.ones(T, T))\n",
        "wei = torch.zeros((T,T))\n",
        "wei = wei.masked_fill(tril == 0, float('-inf'))\n",
        "wei = F.softmax(wei, dim=-1)\n",
        "xbow3 = wei @ x\n",
        "torch.allclose(xbow, xbow3)"
      ],
      "metadata": {
        "colab": {
          "base_uri": "https://localhost:8080/"
        },
        "id": "Xihe9AP4mNgk",
        "outputId": "1b760630-5c13-44b8-8f64-b0861a47386f"
      },
      "execution_count": 38,
      "outputs": [
        {
          "output_type": "execute_result",
          "data": {
            "text/plain": [
              "True"
            ]
          },
          "metadata": {},
          "execution_count": 38
        }
      ]
    },
    {
      "cell_type": "code",
      "source": [
        "# version 4: self-attention!\n",
        "torch.manual_seed(1337)\n",
        "B,T,C = 8,16,64 # batch, time, channels\n",
        "x = torch.randn(B,T,C)\n",
        "\n",
        "# let's see a single Head perform self-attention\n",
        "head_size = 32\n",
        "key = nn.Linear(C, head_size, bias=False)\n",
        "query = nn.Linear(C, head_size, bias=False)\n",
        "value = nn.Linear(C, head_size, bias=False)\n",
        "k = key(x)   # (B, T, 16)\n",
        "q = query(x) # (B, T, 16)\n",
        "wei =  q @ k.transpose(-2, -1) # (B, T, 16) @ (B, 16, T) ---> (B, T, T)\n",
        "\n",
        "tril = torch.tril(torch.ones(T, T))\n",
        "#wei = torch.zeros((T,T))\n",
        "wei = wei.masked_fill(tril == 0, float('-inf'))\n",
        "wei = F.softmax(wei, dim=-1)\n",
        "\n",
        "v = value(x)\n",
        "out = wei @ v\n",
        "#out = wei @ x\n",
        "\n",
        "out.shape"
      ],
      "metadata": {
        "colab": {
          "base_uri": "https://localhost:8080/"
        },
        "id": "Zeh25Dlxmefa",
        "outputId": "5e3eb4cf-60d4-4b4e-a0ff-cd9392011c8c"
      },
      "execution_count": 46,
      "outputs": [
        {
          "output_type": "execute_result",
          "data": {
            "text/plain": [
              "torch.Size([8, 16, 32])"
            ]
          },
          "metadata": {},
          "execution_count": 46
        }
      ]
    },
    {
      "cell_type": "code",
      "source": [
        "wei[0:3]"
      ],
      "metadata": {
        "colab": {
          "base_uri": "https://localhost:8080/"
        },
        "id": "Hyi4HX3RmiBf",
        "outputId": "8b5d3d98-b012-4cba-b5bb-b569ee8d6c5d"
      },
      "execution_count": 48,
      "outputs": [
        {
          "output_type": "execute_result",
          "data": {
            "text/plain": [
              "tensor([[[1.0000e+00, 0.0000e+00, 0.0000e+00, 0.0000e+00, 0.0000e+00,\n",
              "          0.0000e+00, 0.0000e+00, 0.0000e+00, 0.0000e+00, 0.0000e+00,\n",
              "          0.0000e+00, 0.0000e+00, 0.0000e+00, 0.0000e+00, 0.0000e+00,\n",
              "          0.0000e+00],\n",
              "         [3.6800e-01, 6.3200e-01, 0.0000e+00, 0.0000e+00, 0.0000e+00,\n",
              "          0.0000e+00, 0.0000e+00, 0.0000e+00, 0.0000e+00, 0.0000e+00,\n",
              "          0.0000e+00, 0.0000e+00, 0.0000e+00, 0.0000e+00, 0.0000e+00,\n",
              "          0.0000e+00],\n",
              "         [9.9940e-01, 5.0447e-04, 9.6782e-05, 0.0000e+00, 0.0000e+00,\n",
              "          0.0000e+00, 0.0000e+00, 0.0000e+00, 0.0000e+00, 0.0000e+00,\n",
              "          0.0000e+00, 0.0000e+00, 0.0000e+00, 0.0000e+00, 0.0000e+00,\n",
              "          0.0000e+00],\n",
              "         [3.2902e-02, 6.0969e-01, 6.8347e-02, 2.8906e-01, 0.0000e+00,\n",
              "          0.0000e+00, 0.0000e+00, 0.0000e+00, 0.0000e+00, 0.0000e+00,\n",
              "          0.0000e+00, 0.0000e+00, 0.0000e+00, 0.0000e+00, 0.0000e+00,\n",
              "          0.0000e+00],\n",
              "         [1.6195e-03, 4.9586e-02, 1.1021e-02, 7.2400e-01, 2.1377e-01,\n",
              "          0.0000e+00, 0.0000e+00, 0.0000e+00, 0.0000e+00, 0.0000e+00,\n",
              "          0.0000e+00, 0.0000e+00, 0.0000e+00, 0.0000e+00, 0.0000e+00,\n",
              "          0.0000e+00],\n",
              "         [4.4824e-01, 4.4807e-01, 9.3533e-03, 5.4174e-02, 3.1426e-03,\n",
              "          3.7021e-02, 0.0000e+00, 0.0000e+00, 0.0000e+00, 0.0000e+00,\n",
              "          0.0000e+00, 0.0000e+00, 0.0000e+00, 0.0000e+00, 0.0000e+00,\n",
              "          0.0000e+00],\n",
              "         [2.7576e-05, 9.5531e-01, 6.3053e-03, 1.1783e-02, 2.5825e-02,\n",
              "          7.3645e-04, 1.6114e-05, 0.0000e+00, 0.0000e+00, 0.0000e+00,\n",
              "          0.0000e+00, 0.0000e+00, 0.0000e+00, 0.0000e+00, 0.0000e+00,\n",
              "          0.0000e+00],\n",
              "         [1.8298e-01, 2.0163e-01, 2.5179e-02, 1.1637e-02, 2.7263e-02,\n",
              "          4.2550e-01, 2.2277e-02, 1.0353e-01, 0.0000e+00, 0.0000e+00,\n",
              "          0.0000e+00, 0.0000e+00, 0.0000e+00, 0.0000e+00, 0.0000e+00,\n",
              "          0.0000e+00],\n",
              "         [2.6810e-05, 1.0084e-04, 7.0254e-05, 4.9659e-03, 9.9409e-01,\n",
              "          2.2473e-04, 3.5198e-05, 2.9022e-04, 2.0066e-04, 0.0000e+00,\n",
              "          0.0000e+00, 0.0000e+00, 0.0000e+00, 0.0000e+00, 0.0000e+00,\n",
              "          0.0000e+00],\n",
              "         [5.7583e-02, 2.7727e-03, 1.5168e-02, 5.7854e-03, 3.4126e-01,\n",
              "          3.5617e-02, 8.8336e-02, 6.1708e-03, 5.5214e-03, 4.4179e-01,\n",
              "          0.0000e+00, 0.0000e+00, 0.0000e+00, 0.0000e+00, 0.0000e+00,\n",
              "          0.0000e+00],\n",
              "         [4.4333e-02, 9.2422e-02, 6.0055e-02, 7.5815e-03, 7.5788e-01,\n",
              "          6.0453e-03, 1.8397e-03, 6.9672e-04, 1.1008e-02, 1.2431e-02,\n",
              "          5.7100e-03, 0.0000e+00, 0.0000e+00, 0.0000e+00, 0.0000e+00,\n",
              "          0.0000e+00],\n",
              "         [6.0931e-02, 9.4652e-02, 1.1297e-02, 1.2456e-02, 5.3031e-02,\n",
              "          7.2781e-02, 2.7986e-04, 1.5405e-02, 1.4131e-02, 5.2914e-02,\n",
              "          5.8776e-01, 2.4359e-02, 0.0000e+00, 0.0000e+00, 0.0000e+00,\n",
              "          0.0000e+00],\n",
              "         [1.6426e-04, 3.9929e-04, 6.8214e-04, 1.2151e-02, 9.5843e-01,\n",
              "          3.0384e-03, 1.4863e-02, 7.0267e-04, 1.5965e-04, 2.3628e-03,\n",
              "          3.1607e-03, 3.7204e-04, 3.5177e-03, 0.0000e+00, 0.0000e+00,\n",
              "          0.0000e+00],\n",
              "         [1.8298e-03, 7.2664e-03, 1.2859e-03, 1.4143e-02, 9.2499e-03,\n",
              "          8.8673e-03, 4.6660e-03, 1.9042e-02, 3.5365e-02, 1.9680e-04,\n",
              "          2.1627e-03, 1.4667e-04, 1.4683e-02, 8.8110e-01, 0.0000e+00,\n",
              "          0.0000e+00],\n",
              "         [1.5128e-01, 5.7292e-03, 1.9888e-03, 3.5368e-03, 6.9974e-04,\n",
              "          3.2361e-02, 3.7166e-03, 4.2071e-02, 3.7032e-01, 6.6621e-03,\n",
              "          4.3014e-03, 1.7794e-02, 9.9087e-02, 2.5419e-01, 6.2556e-03,\n",
              "          0.0000e+00],\n",
              "         [1.5440e-02, 6.8314e-03, 2.1089e-02, 9.3802e-02, 2.6608e-01,\n",
              "          5.2975e-02, 1.6644e-01, 4.3983e-02, 6.0242e-02, 5.2503e-02,\n",
              "          6.1734e-03, 1.0975e-02, 4.8977e-02, 3.9479e-02, 2.3833e-02,\n",
              "          9.1176e-02]],\n",
              "\n",
              "        [[1.0000e+00, 0.0000e+00, 0.0000e+00, 0.0000e+00, 0.0000e+00,\n",
              "          0.0000e+00, 0.0000e+00, 0.0000e+00, 0.0000e+00, 0.0000e+00,\n",
              "          0.0000e+00, 0.0000e+00, 0.0000e+00, 0.0000e+00, 0.0000e+00,\n",
              "          0.0000e+00],\n",
              "         [5.1366e-01, 4.8634e-01, 0.0000e+00, 0.0000e+00, 0.0000e+00,\n",
              "          0.0000e+00, 0.0000e+00, 0.0000e+00, 0.0000e+00, 0.0000e+00,\n",
              "          0.0000e+00, 0.0000e+00, 0.0000e+00, 0.0000e+00, 0.0000e+00,\n",
              "          0.0000e+00],\n",
              "         [6.1772e-01, 3.5913e-01, 2.3146e-02, 0.0000e+00, 0.0000e+00,\n",
              "          0.0000e+00, 0.0000e+00, 0.0000e+00, 0.0000e+00, 0.0000e+00,\n",
              "          0.0000e+00, 0.0000e+00, 0.0000e+00, 0.0000e+00, 0.0000e+00,\n",
              "          0.0000e+00],\n",
              "         [1.5756e-02, 4.3802e-01, 5.8474e-02, 4.8775e-01, 0.0000e+00,\n",
              "          0.0000e+00, 0.0000e+00, 0.0000e+00, 0.0000e+00, 0.0000e+00,\n",
              "          0.0000e+00, 0.0000e+00, 0.0000e+00, 0.0000e+00, 0.0000e+00,\n",
              "          0.0000e+00],\n",
              "         [2.1507e-02, 5.4498e-01, 2.1807e-01, 5.9693e-02, 1.5574e-01,\n",
              "          0.0000e+00, 0.0000e+00, 0.0000e+00, 0.0000e+00, 0.0000e+00,\n",
              "          0.0000e+00, 0.0000e+00, 0.0000e+00, 0.0000e+00, 0.0000e+00,\n",
              "          0.0000e+00],\n",
              "         [4.0155e-02, 1.0010e-01, 3.1162e-01, 8.6456e-02, 3.0712e-01,\n",
              "          1.5454e-01, 0.0000e+00, 0.0000e+00, 0.0000e+00, 0.0000e+00,\n",
              "          0.0000e+00, 0.0000e+00, 0.0000e+00, 0.0000e+00, 0.0000e+00,\n",
              "          0.0000e+00],\n",
              "         [3.0181e-01, 4.9216e-02, 3.4563e-02, 2.0743e-01, 2.6626e-01,\n",
              "          1.3096e-01, 9.7582e-03, 0.0000e+00, 0.0000e+00, 0.0000e+00,\n",
              "          0.0000e+00, 0.0000e+00, 0.0000e+00, 0.0000e+00, 0.0000e+00,\n",
              "          0.0000e+00],\n",
              "         [1.4227e-01, 1.1439e-01, 1.2946e-01, 2.3306e-01, 1.3579e-01,\n",
              "          5.5067e-02, 1.6386e-02, 1.7358e-01, 0.0000e+00, 0.0000e+00,\n",
              "          0.0000e+00, 0.0000e+00, 0.0000e+00, 0.0000e+00, 0.0000e+00,\n",
              "          0.0000e+00],\n",
              "         [4.7576e-04, 7.2768e-04, 5.1619e-03, 2.1287e-04, 2.2223e-04,\n",
              "          1.9465e-03, 9.1944e-01, 3.8534e-03, 6.7960e-02, 0.0000e+00,\n",
              "          0.0000e+00, 0.0000e+00, 0.0000e+00, 0.0000e+00, 0.0000e+00,\n",
              "          0.0000e+00],\n",
              "         [5.6080e-02, 1.9977e-02, 4.5864e-03, 1.1478e-01, 7.4124e-03,\n",
              "          7.7215e-01, 2.7004e-03, 1.7736e-02, 2.6298e-03, 1.9540e-03,\n",
              "          0.0000e+00, 0.0000e+00, 0.0000e+00, 0.0000e+00, 0.0000e+00,\n",
              "          0.0000e+00],\n",
              "         [1.6170e-02, 1.3224e-01, 2.4689e-02, 1.1985e-02, 7.1505e-02,\n",
              "          1.2175e-02, 3.4069e-02, 2.3955e-02, 6.5131e-01, 1.2777e-02,\n",
              "          9.1322e-03, 0.0000e+00, 0.0000e+00, 0.0000e+00, 0.0000e+00,\n",
              "          0.0000e+00],\n",
              "         [5.9251e-02, 1.2001e-01, 1.0430e-02, 3.3272e-02, 8.0832e-03,\n",
              "          2.7795e-02, 1.6268e-01, 5.9552e-02, 1.9819e-02, 2.1739e-01,\n",
              "          2.4187e-01, 3.9856e-02, 0.0000e+00, 0.0000e+00, 0.0000e+00,\n",
              "          0.0000e+00],\n",
              "         [2.4582e-03, 1.8336e-03, 2.7001e-04, 4.5860e-01, 1.6706e-04,\n",
              "          1.1599e-03, 4.1367e-01, 1.6498e-02, 3.7684e-03, 5.2051e-02,\n",
              "          1.2092e-02, 1.7532e-04, 3.7258e-02, 0.0000e+00, 0.0000e+00,\n",
              "          0.0000e+00],\n",
              "         [7.4779e-03, 1.0354e-02, 8.0880e-02, 9.0651e-03, 3.4124e-02,\n",
              "          1.1516e-03, 4.0224e-02, 9.0229e-03, 1.9245e-02, 9.6961e-02,\n",
              "          2.1531e-01, 2.3576e-02, 4.4131e-01, 1.1289e-02, 0.0000e+00,\n",
              "          0.0000e+00],\n",
              "         [2.3174e-02, 2.3332e-01, 4.5286e-02, 6.8808e-03, 6.8079e-02,\n",
              "          4.5978e-02, 1.0644e-01, 3.7796e-02, 2.9011e-03, 2.5951e-01,\n",
              "          3.6327e-02, 7.4258e-02, 6.0624e-03, 5.1892e-02, 2.0923e-03,\n",
              "          0.0000e+00],\n",
              "         [6.8321e-02, 7.5170e-04, 1.9022e-02, 2.9201e-03, 6.9091e-03,\n",
              "          3.2183e-02, 7.5031e-04, 1.4280e-02, 9.6929e-02, 4.2784e-02,\n",
              "          3.1773e-02, 4.0554e-01, 7.6348e-02, 1.8315e-02, 1.7437e-01,\n",
              "          8.8098e-03]],\n",
              "\n",
              "        [[1.0000e+00, 0.0000e+00, 0.0000e+00, 0.0000e+00, 0.0000e+00,\n",
              "          0.0000e+00, 0.0000e+00, 0.0000e+00, 0.0000e+00, 0.0000e+00,\n",
              "          0.0000e+00, 0.0000e+00, 0.0000e+00, 0.0000e+00, 0.0000e+00,\n",
              "          0.0000e+00],\n",
              "         [1.6444e-01, 8.3556e-01, 0.0000e+00, 0.0000e+00, 0.0000e+00,\n",
              "          0.0000e+00, 0.0000e+00, 0.0000e+00, 0.0000e+00, 0.0000e+00,\n",
              "          0.0000e+00, 0.0000e+00, 0.0000e+00, 0.0000e+00, 0.0000e+00,\n",
              "          0.0000e+00],\n",
              "         [3.8319e-01, 3.5752e-01, 2.5930e-01, 0.0000e+00, 0.0000e+00,\n",
              "          0.0000e+00, 0.0000e+00, 0.0000e+00, 0.0000e+00, 0.0000e+00,\n",
              "          0.0000e+00, 0.0000e+00, 0.0000e+00, 0.0000e+00, 0.0000e+00,\n",
              "          0.0000e+00],\n",
              "         [2.1205e-03, 2.7240e-02, 4.5774e-02, 9.2487e-01, 0.0000e+00,\n",
              "          0.0000e+00, 0.0000e+00, 0.0000e+00, 0.0000e+00, 0.0000e+00,\n",
              "          0.0000e+00, 0.0000e+00, 0.0000e+00, 0.0000e+00, 0.0000e+00,\n",
              "          0.0000e+00],\n",
              "         [2.1692e-02, 2.7422e-03, 4.6577e-02, 2.1246e-03, 9.2686e-01,\n",
              "          0.0000e+00, 0.0000e+00, 0.0000e+00, 0.0000e+00, 0.0000e+00,\n",
              "          0.0000e+00, 0.0000e+00, 0.0000e+00, 0.0000e+00, 0.0000e+00,\n",
              "          0.0000e+00],\n",
              "         [3.4355e-01, 4.4126e-02, 4.3333e-02, 3.2110e-01, 2.3722e-01,\n",
              "          1.0667e-02, 0.0000e+00, 0.0000e+00, 0.0000e+00, 0.0000e+00,\n",
              "          0.0000e+00, 0.0000e+00, 0.0000e+00, 0.0000e+00, 0.0000e+00,\n",
              "          0.0000e+00],\n",
              "         [1.2806e-01, 3.2394e-02, 3.5223e-01, 1.8720e-01, 4.7713e-02,\n",
              "          1.5083e-01, 1.0157e-01, 0.0000e+00, 0.0000e+00, 0.0000e+00,\n",
              "          0.0000e+00, 0.0000e+00, 0.0000e+00, 0.0000e+00, 0.0000e+00,\n",
              "          0.0000e+00],\n",
              "         [3.0629e-01, 6.5073e-03, 2.5641e-02, 4.4558e-02, 2.7508e-02,\n",
              "          1.9136e-02, 4.9524e-01, 7.5118e-02, 0.0000e+00, 0.0000e+00,\n",
              "          0.0000e+00, 0.0000e+00, 0.0000e+00, 0.0000e+00, 0.0000e+00,\n",
              "          0.0000e+00],\n",
              "         [1.9529e-02, 7.0560e-02, 2.7832e-01, 1.2181e-01, 3.7823e-02,\n",
              "          5.5963e-02, 9.2627e-02, 3.1152e-01, 1.1843e-02, 0.0000e+00,\n",
              "          0.0000e+00, 0.0000e+00, 0.0000e+00, 0.0000e+00, 0.0000e+00,\n",
              "          0.0000e+00],\n",
              "         [1.5875e-02, 7.9338e-02, 8.9231e-02, 2.2897e-02, 7.9546e-02,\n",
              "          1.0446e-01, 6.8685e-02, 1.8376e-01, 4.4115e-02, 3.1209e-01,\n",
              "          0.0000e+00, 0.0000e+00, 0.0000e+00, 0.0000e+00, 0.0000e+00,\n",
              "          0.0000e+00],\n",
              "         [6.4941e-03, 5.0878e-01, 1.0209e-02, 2.2761e-01, 1.4289e-03,\n",
              "          1.9894e-02, 3.5348e-02, 1.1896e-01, 2.4270e-03, 3.5468e-03,\n",
              "          6.5303e-02, 0.0000e+00, 0.0000e+00, 0.0000e+00, 0.0000e+00,\n",
              "          0.0000e+00],\n",
              "         [5.8742e-02, 1.0904e-04, 1.3418e-03, 2.1681e-04, 5.8410e-01,\n",
              "          1.4765e-02, 2.5432e-02, 5.0389e-03, 2.5478e-01, 3.5606e-02,\n",
              "          4.7554e-04, 1.9394e-02, 0.0000e+00, 0.0000e+00, 0.0000e+00,\n",
              "          0.0000e+00],\n",
              "         [4.7747e-03, 1.1423e-03, 1.4018e-01, 1.6350e-03, 8.9439e-02,\n",
              "          1.8281e-01, 2.0251e-02, 4.9581e-02, 4.6870e-01, 3.2248e-02,\n",
              "          3.2905e-03, 5.8454e-03, 1.0294e-04, 0.0000e+00, 0.0000e+00,\n",
              "          0.0000e+00],\n",
              "         [1.6328e-01, 1.6667e-03, 5.4912e-02, 1.8454e-03, 2.2224e-01,\n",
              "          2.9343e-01, 9.6215e-03, 4.5876e-03, 3.0756e-02, 2.7537e-02,\n",
              "          7.7329e-04, 1.2762e-01, 5.2723e-03, 5.6460e-02, 0.0000e+00,\n",
              "          0.0000e+00],\n",
              "         [3.1427e-01, 4.4314e-04, 6.2474e-04, 7.4371e-03, 2.8082e-02,\n",
              "          1.0899e-03, 9.3376e-03, 2.1611e-03, 4.8148e-03, 7.1819e-03,\n",
              "          5.6127e-03, 3.1212e-01, 2.4821e-04, 1.9978e-01, 1.0679e-01,\n",
              "          0.0000e+00],\n",
              "         [1.7213e-04, 8.6558e-01, 1.5809e-03, 2.6889e-02, 3.6237e-04,\n",
              "          1.0148e-02, 3.0057e-02, 7.7262e-03, 1.0232e-03, 8.6243e-04,\n",
              "          3.2700e-02, 6.7018e-05, 1.4609e-03, 1.5996e-04, 7.6330e-03,\n",
              "          1.3580e-02]]], grad_fn=<SliceBackward0>)"
            ]
          },
          "metadata": {},
          "execution_count": 48
        }
      ]
    },
    {
      "cell_type": "code",
      "source": [
        "k = torch.randn(B,T,head_size)\n",
        "q = torch.randn(B,T,head_size)\n",
        "wei = q @ k.transpose(-2, -1) * head_size**-0.5"
      ],
      "metadata": {
        "id": "ne8cVLK2nAA0"
      },
      "execution_count": 49,
      "outputs": []
    },
    {
      "cell_type": "code",
      "source": [
        "k.var()"
      ],
      "metadata": {
        "colab": {
          "base_uri": "https://localhost:8080/"
        },
        "id": "CO9AIo3NnFoj",
        "outputId": "d8562c1d-4f92-4feb-be9e-33188e33304e"
      },
      "execution_count": 50,
      "outputs": [
        {
          "output_type": "execute_result",
          "data": {
            "text/plain": [
              "tensor(1.0163)"
            ]
          },
          "metadata": {},
          "execution_count": 50
        }
      ]
    },
    {
      "cell_type": "code",
      "source": [
        "q.var()"
      ],
      "metadata": {
        "colab": {
          "base_uri": "https://localhost:8080/"
        },
        "id": "J7Me9JNqnMN8",
        "outputId": "84623e94-8d2b-46eb-d1d3-94d4d3f36988"
      },
      "execution_count": 51,
      "outputs": [
        {
          "output_type": "execute_result",
          "data": {
            "text/plain": [
              "tensor(0.9759)"
            ]
          },
          "metadata": {},
          "execution_count": 51
        }
      ]
    },
    {
      "cell_type": "code",
      "source": [
        "wei.var()"
      ],
      "metadata": {
        "colab": {
          "base_uri": "https://localhost:8080/"
        },
        "id": "i90hClMCnTZz",
        "outputId": "ad7f1421-6f1e-4fb4-c0ea-df4d1fb5a959"
      },
      "execution_count": 52,
      "outputs": [
        {
          "output_type": "execute_result",
          "data": {
            "text/plain": [
              "tensor(1.0045)"
            ]
          },
          "metadata": {},
          "execution_count": 52
        }
      ]
    },
    {
      "cell_type": "code",
      "source": [
        "torch.softmax(torch.tensor([0.1, -0.2, 0.3, -0.2, 0.5]), dim=-1)"
      ],
      "metadata": {
        "colab": {
          "base_uri": "https://localhost:8080/"
        },
        "id": "cRo9W5qjnV7y",
        "outputId": "a728409b-8146-4d5f-c743-496341ceae69"
      },
      "execution_count": 53,
      "outputs": [
        {
          "output_type": "execute_result",
          "data": {
            "text/plain": [
              "tensor([0.1925, 0.1426, 0.2351, 0.1426, 0.2872])"
            ]
          },
          "metadata": {},
          "execution_count": 53
        }
      ]
    },
    {
      "cell_type": "code",
      "source": [
        "torch.softmax(torch.tensor([0.1, -0.2, 0.3, -0.2, 0.5])*8, dim=-1) # gets too peaky, converges to one-hot"
      ],
      "metadata": {
        "colab": {
          "base_uri": "https://localhost:8080/"
        },
        "id": "RXAyO90snZEY",
        "outputId": "5b42ba22-b50e-45ae-a5bc-1f2a74a3a061"
      },
      "execution_count": 54,
      "outputs": [
        {
          "output_type": "execute_result",
          "data": {
            "text/plain": [
              "tensor([0.0326, 0.0030, 0.1615, 0.0030, 0.8000])"
            ]
          },
          "metadata": {},
          "execution_count": 54
        }
      ]
    },
    {
      "cell_type": "code",
      "source": [
        "class LayerNorm1d: # (used to be BatchNorm1d)\n",
        "\n",
        "  def __init__(self, dim, eps=1e-5, momentum=0.1):\n",
        "    self.eps = eps\n",
        "    self.gamma = torch.ones(dim)\n",
        "    self.beta = torch.zeros(dim)\n",
        "\n",
        "  def __call__(self, x):\n",
        "    # calculate the forward pass\n",
        "    xmean = x.mean(1, keepdim=True) # batch mean\n",
        "    xvar = x.var(1, keepdim=True) # batch variance\n",
        "    xhat = (x - xmean) / torch.sqrt(xvar + self.eps) # normalize to unit variance\n",
        "    self.out = self.gamma * xhat + self.beta\n",
        "    return self.out\n",
        "\n",
        "  def parameters(self):\n",
        "    return [self.gamma, self.beta]\n",
        "\n",
        "torch.manual_seed(1337)\n",
        "module = LayerNorm1d(100)\n",
        "x = torch.randn(32, 100) # batch size 32 of 100-dimensional vectors\n",
        "x = module(x)\n",
        "x.shape"
      ],
      "metadata": {
        "colab": {
          "base_uri": "https://localhost:8080/"
        },
        "id": "7aiO9Ukhnfbd",
        "outputId": "d2fccc44-05b9-4153-e89d-6ede02422d2c"
      },
      "execution_count": 55,
      "outputs": [
        {
          "output_type": "execute_result",
          "data": {
            "text/plain": [
              "torch.Size([32, 100])"
            ]
          },
          "metadata": {},
          "execution_count": 55
        }
      ]
    },
    {
      "cell_type": "code",
      "source": [
        "x[:,0].mean(), x[:,0].std() # mean,std of one feature across all batch inputs"
      ],
      "metadata": {
        "colab": {
          "base_uri": "https://localhost:8080/"
        },
        "id": "0K00sSTHnwIc",
        "outputId": "203c30c7-2754-4bf8-c0c9-c1e15794e5c2"
      },
      "execution_count": 56,
      "outputs": [
        {
          "output_type": "execute_result",
          "data": {
            "text/plain": [
              "(tensor(0.1469), tensor(0.8803))"
            ]
          },
          "metadata": {},
          "execution_count": 56
        }
      ]
    },
    {
      "cell_type": "code",
      "source": [
        "x[0,:].mean(), x[0,:].std() # mean,std of a single input from the batch, of its features"
      ],
      "metadata": {
        "colab": {
          "base_uri": "https://localhost:8080/"
        },
        "id": "ZPwpt0afnyoZ",
        "outputId": "305e76c5-e551-4efc-f5f2-c2e1d0f62f05"
      },
      "execution_count": 57,
      "outputs": [
        {
          "output_type": "execute_result",
          "data": {
            "text/plain": [
              "(tensor(-9.5367e-09), tensor(1.0000))"
            ]
          },
          "metadata": {},
          "execution_count": 57
        }
      ]
    },
    {
      "cell_type": "markdown",
      "source": [
        "## Full finished code, for reference\n",
        "You may want to refer directly to the git repo instead though."
      ],
      "metadata": {
        "id": "4AFHMEqNn6fP"
      }
    },
    {
      "cell_type": "code",
      "source": [
        "import torch\n",
        "import torch.nn as nn\n",
        "from torch.nn import functional as F\n",
        "\n",
        "# hyperparameters\n",
        "batch_size = 16 # how many independent sequences will we process in parallel?\n",
        "block_size = 32 # what is the maximum context length for predictions?\n",
        "max_iters = 5000\n",
        "eval_interval = 100\n",
        "learning_rate = 1e-3\n",
        "device = 'cuda' if torch.cuda.is_available() else 'cpu'\n",
        "eval_iters = 200\n",
        "n_embd = 64\n",
        "n_head = 4\n",
        "n_layer = 4\n",
        "dropout = 0.0\n",
        "# ------------\n",
        "\n",
        "torch.manual_seed(1337)\n",
        "\n",
        "# wget https://raw.githubusercontent.com/karpathy/char-rnn/master/data/tinyshakespeare/input.txt\n",
        "with open('input.txt', 'r', encoding='utf-8') as f:\n",
        "    text = f.read()\n",
        "\n",
        "# here are all the unique characters that occur in this text\n",
        "char_dict = {}  # Create an empty dictionary to store unique characters\n",
        "for char in text:  # Iterate over each character in the text\n",
        "    char_dict[char] = 1  # Assign a value of 1 to each character in the dictionary\n",
        "chars = sorted(char_dict.keys())  # Get the keys (characters) from the dictionary and sort them\n",
        "vocab_size = len(chars)  # Determine the vocabulary size by getting the length of the sorted characters\n",
        "print(''.join(chars))  # Print the sorted characters as a string\n",
        "# create a mapping from characters to integers\n",
        "stoi = { ch:i for i,ch in enumerate(chars) }\n",
        "itos = { i:ch for i,ch in enumerate(chars) }\n",
        "encode = lambda s: [stoi[c] for c in s] # encoder: take a string, output a list of integers\n",
        "decode = lambda l: ''.join([itos[i] for i in l]) # decoder: take a list of integers, output a string\n",
        "\n",
        "# Train and test splits\n",
        "data = torch.tensor(encode(text), dtype=torch.long)\n",
        "n = int(0.9*len(data)) # first 90% will be train, rest val\n",
        "train_data = data[:n]\n",
        "val_data = data[n:]\n",
        "\n",
        "# data loading\n",
        "def get_batch(split):\n",
        "    # generate a small batch of data of inputs x and targets y\n",
        "    data = train_data if split == 'train' else val_data\n",
        "    ix = torch.randint(len(data) - block_size, (batch_size,))\n",
        "    x = torch.stack([data[i:i+block_size] for i in ix])\n",
        "    y = torch.stack([data[i+1:i+block_size+1] for i in ix])\n",
        "    x, y = x.to(device), y.to(device)\n",
        "    return x, y\n",
        "\n",
        "@torch.no_grad()\n",
        "def estimate_loss():\n",
        "    out = {}\n",
        "    model.eval()\n",
        "    for split in ['train', 'val']:\n",
        "        losses = torch.zeros(eval_iters)\n",
        "        for k in range(eval_iters):\n",
        "            X, Y = get_batch(split)\n",
        "            logits, loss = model(X, Y)\n",
        "            losses[k] = loss.item()\n",
        "        out[split] = losses.mean()\n",
        "    model.train()\n",
        "    return out\n",
        "\n",
        "class Head(nn.Module):\n",
        "    \"\"\" one head of self-attention \"\"\"\n",
        "\n",
        "    def __init__(self, head_size):\n",
        "        super().__init__()\n",
        "        self.key = nn.Linear(n_embd, head_size, bias=False)\n",
        "        self.query = nn.Linear(n_embd, head_size, bias=False)\n",
        "        self.value = nn.Linear(n_embd, head_size, bias=False)\n",
        "        self.register_buffer('tril', torch.tril(torch.ones(block_size, block_size)))\n",
        "\n",
        "        self.dropout = nn.Dropout(dropout)\n",
        "\n",
        "    def forward(self, x):\n",
        "        B,T,C = x.shape\n",
        "        k = self.key(x)   # (B,T,C)\n",
        "        q = self.query(x) # (B,T,C)\n",
        "        # compute attention scores (\"affinities\")\n",
        "        wei = q @ k.transpose(-2,-1) * C**-0.5 # (B, T, C) @ (B, C, T) -> (B, T, T)\n",
        "        wei = wei.masked_fill(self.tril[:T, :T] == 0, float('-inf')) # (B, T, T)\n",
        "        wei = F.softmax(wei, dim=-1) # (B, T, T)\n",
        "        wei = self.dropout(wei)\n",
        "        # perform the weighted aggregation of the values\n",
        "        v = self.value(x) # (B,T,C)\n",
        "        out = wei @ v # (B, T, T) @ (B, T, C) -> (B, T, C)\n",
        "        return out\n",
        "\n",
        "class MultiHeadAttention(nn.Module):\n",
        "    \"\"\" multiple heads of self-attention in parallel \"\"\"\n",
        "\n",
        "    def __init__(self, num_heads, head_size):\n",
        "        super().__init__()\n",
        "        self.heads = nn.ModuleList([Head(head_size) for _ in range(num_heads)])\n",
        "        self.proj = nn.Linear(n_embd, n_embd)\n",
        "        self.dropout = nn.Dropout(dropout)\n",
        "\n",
        "    def forward(self, x):\n",
        "        out = torch.cat([h(x) for h in self.heads], dim=-1)\n",
        "        out = self.dropout(self.proj(out))\n",
        "        return out\n",
        "\n",
        "class FeedFoward(nn.Module):\n",
        "    \"\"\" a simple linear layer followed by a non-linearity \"\"\"\n",
        "\n",
        "    def __init__(self, n_embd):\n",
        "        super().__init__()\n",
        "        self.net = nn.Sequential(\n",
        "            nn.Linear(n_embd, 4 * n_embd),\n",
        "            nn.ReLU(),\n",
        "            nn.Linear(4 * n_embd, n_embd),\n",
        "            nn.Dropout(dropout),\n",
        "        )\n",
        "\n",
        "    def forward(self, x):\n",
        "        return self.net(x)\n",
        "\n",
        "class Block(nn.Module):\n",
        "    \"\"\" Transformer block: communication followed by computation \"\"\"\n",
        "\n",
        "    def __init__(self, n_embd, n_head):\n",
        "        # n_embd: embedding dimension, n_head: the number of heads we'd like\n",
        "        super().__init__()\n",
        "        head_size = n_embd // n_head\n",
        "        self.sa = MultiHeadAttention(n_head, head_size)\n",
        "        self.ffwd = FeedFoward(n_embd)\n",
        "        self.ln1 = nn.LayerNorm(n_embd)\n",
        "        self.ln2 = nn.LayerNorm(n_embd)\n",
        "\n",
        "    def forward(self, x):\n",
        "        x = x + self.sa(self.ln1(x))\n",
        "        x = x + self.ffwd(self.ln2(x))\n",
        "        return x\n",
        "\n",
        "# super simple bigram model\n",
        "class BigramLanguageModel(nn.Module):\n",
        "\n",
        "    def __init__(self):\n",
        "        super().__init__()\n",
        "        # each token directly reads off the logits for the next token from a lookup table\n",
        "        self.token_embedding_table = nn.Embedding(vocab_size, n_embd)\n",
        "        self.position_embedding_table = nn.Embedding(block_size, n_embd)\n",
        "        self.blocks = nn.Sequential(*[Block(n_embd, n_head=n_head) for _ in range(n_layer)])\n",
        "        self.ln_f = nn.LayerNorm(n_embd) # final layer norm\n",
        "        self.lm_head = nn.Linear(n_embd, vocab_size)\n",
        "\n",
        "    def forward(self, idx, targets=None):\n",
        "        B, T = idx.shape\n",
        "\n",
        "        # idx and targets are both (B,T) tensor of integers\n",
        "        tok_emb = self.token_embedding_table(idx) # (B,T,C)\n",
        "        pos_emb = self.position_embedding_table(torch.arange(T, device=device)) # (T,C)\n",
        "        x = tok_emb + pos_emb # (B,T,C)\n",
        "        x = self.blocks(x) # (B,T,C)\n",
        "        x = self.ln_f(x) # (B,T,C)\n",
        "        logits = self.lm_head(x) # (B,T,vocab_size)\n",
        "\n",
        "        if targets is None:\n",
        "            loss = None\n",
        "        else:\n",
        "            B, T, C = logits.shape\n",
        "            logits = logits.view(B*T, C)\n",
        "            targets = targets.view(B*T)\n",
        "            loss = F.cross_entropy(logits, targets)\n",
        "\n",
        "        return logits, loss\n",
        "\n",
        "    def generate(self, idx, max_new_tokens):\n",
        "        # idx is (B, T) array of indices in the current context\n",
        "        for _ in range(max_new_tokens):\n",
        "            # crop idx to the last block_size tokens\n",
        "            idx_cond = idx[:, -block_size:]\n",
        "            # get the predictions\n",
        "            logits, loss = self(idx_cond)\n",
        "            # focus only on the last time step\n",
        "            logits = logits[:, -1, :] # becomes (B, C)\n",
        "            # apply softmax to get probabilities\n",
        "            probs = F.softmax(logits, dim=-1) # (B, C)\n",
        "            # sample from the distribution\n",
        "            idx_next = torch.multinomial(probs, num_samples=1) # (B, 1)\n",
        "            # append sampled index to the running sequence\n",
        "            idx = torch.cat((idx, idx_next), dim=1) # (B, T+1)\n",
        "        return idx\n",
        "\n",
        "model = BigramLanguageModel()\n",
        "m = model.to(device)\n",
        "# print the number of parameters in the model\n",
        "print(sum(p.numel() for p in m.parameters())/1e6, 'M parameters')\n",
        "\n",
        "# create a PyTorch optimizer\n",
        "optimizer = torch.optim.AdamW(model.parameters(), lr=learning_rate)\n",
        "\n",
        "for iter in range(max_iters):\n",
        "\n",
        "    # every once in a while evaluate the loss on train and val sets\n",
        "    if iter % eval_interval == 0 or iter == max_iters - 1:\n",
        "        losses = estimate_loss()\n",
        "        print(f\"step {iter}: train loss {losses['train']:.4f}, val loss {losses['val']:.4f}\")\n",
        "\n",
        "    # sample a batch of data\n",
        "    xb, yb = get_batch('train')\n",
        "\n",
        "    # evaluate the loss\n",
        "    logits, loss = model(xb, yb)\n",
        "    optimizer.zero_grad(set_to_none=True)\n",
        "    loss.backward()\n",
        "    optimizer.step()\n",
        "\n",
        "# generate from the model\n",
        "context = torch.zeros((1, 1), dtype=torch.long, device=device)\n",
        "print(decode(m.generate(context, max_new_tokens=2000)[0].tolist()))"
      ],
      "metadata": {
        "colab": {
          "base_uri": "https://localhost:8080/"
        },
        "id": "8dAyrEwFn8gJ",
        "outputId": "0acee90a-740b-45d4-bece-18ce40f3d72e"
      },
      "execution_count": 58,
      "outputs": [
        {
          "output_type": "stream",
          "name": "stdout",
          "text": [
            "\n",
            " !$&',-.3:;?ABCDEFGHIJKLMNOPQRSTUVWXYZabcdefghijklmnopqrstuvwxyz\n",
            "0.209729 M parameters\n",
            "step 0: train loss 4.4116, val loss 4.4022\n",
            "step 100: train loss 2.6568, val loss 2.6670\n",
            "step 200: train loss 2.5091, val loss 2.5059\n",
            "step 300: train loss 2.4194, val loss 2.4335\n",
            "step 400: train loss 2.3500, val loss 2.3564\n",
            "step 500: train loss 2.2965, val loss 2.3127\n",
            "step 600: train loss 2.2412, val loss 2.2502\n",
            "step 700: train loss 2.2047, val loss 2.2183\n",
            "step 800: train loss 2.1642, val loss 2.1874\n",
            "step 900: train loss 2.1249, val loss 2.1506\n",
            "step 1000: train loss 2.1030, val loss 2.1297\n",
            "step 1100: train loss 2.0700, val loss 2.1182\n",
            "step 1200: train loss 2.0384, val loss 2.0800\n",
            "step 1300: train loss 2.0252, val loss 2.0643\n",
            "step 1400: train loss 1.9916, val loss 2.0358\n",
            "step 1500: train loss 1.9703, val loss 2.0305\n",
            "step 1600: train loss 1.9626, val loss 2.0485\n",
            "step 1700: train loss 1.9413, val loss 2.0144\n",
            "step 1800: train loss 1.9087, val loss 1.9962\n",
            "step 1900: train loss 1.9089, val loss 1.9891\n",
            "step 2000: train loss 1.8865, val loss 1.9969\n",
            "step 2100: train loss 1.8720, val loss 1.9763\n",
            "step 2200: train loss 1.8580, val loss 1.9599\n",
            "step 2300: train loss 1.8556, val loss 1.9518\n",
            "step 2400: train loss 1.8422, val loss 1.9443\n",
            "step 2500: train loss 1.8174, val loss 1.9449\n",
            "step 2600: train loss 1.8273, val loss 1.9386\n",
            "step 2700: train loss 1.8133, val loss 1.9341\n",
            "step 2800: train loss 1.8045, val loss 1.9221\n",
            "step 2900: train loss 1.8049, val loss 1.9316\n",
            "step 3000: train loss 1.7953, val loss 1.9211\n",
            "step 3100: train loss 1.7672, val loss 1.9176\n",
            "step 3200: train loss 1.7538, val loss 1.9093\n",
            "step 3300: train loss 1.7553, val loss 1.9030\n",
            "step 3400: train loss 1.7548, val loss 1.8958\n",
            "step 3500: train loss 1.7384, val loss 1.8937\n",
            "step 3600: train loss 1.7264, val loss 1.8864\n",
            "step 3700: train loss 1.7297, val loss 1.8808\n",
            "step 3800: train loss 1.7192, val loss 1.8937\n",
            "step 3900: train loss 1.7215, val loss 1.8749\n",
            "step 4000: train loss 1.7145, val loss 1.8593\n",
            "step 4100: train loss 1.7131, val loss 1.8775\n",
            "step 4200: train loss 1.7061, val loss 1.8676\n",
            "step 4300: train loss 1.6996, val loss 1.8491\n",
            "step 4400: train loss 1.7066, val loss 1.8659\n",
            "step 4500: train loss 1.6883, val loss 1.8506\n",
            "step 4600: train loss 1.6844, val loss 1.8343\n",
            "step 4700: train loss 1.6839, val loss 1.8464\n",
            "step 4800: train loss 1.6665, val loss 1.8446\n",
            "step 4900: train loss 1.6694, val loss 1.8355\n",
            "step 4999: train loss 1.6642, val loss 1.8239\n",
            "\n",
            "ROMEO:\n",
            "But you fret, hell, where Volivius:\n",
            "They now I usless like, to to see this grand; I'll must sprinks dray-wretor upwon alond, liege wan thy lace blaniess to hanger and nour gruest:\n",
            "Now to by betwers tot, tow, go:\n",
            "Eve nor to his ghards wifill my join not.\n",
            "\n",
            "LUCIY:\n",
            "Lord,----\n",
            "But thou sging them but\n",
            "am they beens us\n",
            "By thou sovore.\n",
            "\n",
            "ISABELLA:\n",
            "The pitsade but grove to hadgeles!\n",
            "\n",
            "CLARD:\n",
            "The kingle me; an your tords wants jecuntal.\n",
            "\n",
            "MENVO:\n",
            "I be e'll comfsir, whom in the sceed with mad him to is forgiving:\n",
            "Go, be slouce ways! do to-smages:\n",
            "Once it his susin, passess stond? the haspe, lew, ever some to me with dought:\n",
            "In your hear him, and that, out thy whose my late all that you by joyly us beliess Lord:\n",
            "Well-mone is not lets, for with!\n",
            "He arre royper rivioled orcusion\n",
            "What confess, temile you by that thou grurn that such differs I'll bear confetio-s:\n",
            "To, no at and her long wornt, and on aflience;\n",
            "And um you, profort, take, thou, names:\n",
            "In mistragoing, now our beavehs exeny with.\n",
            "\n",
            "GLOUCESTER:\n",
            "\n",
            "HENRY Me, whose? but to good it that wing thy dukes,\n",
            "I ward than war\n",
            "offightant, I us onle adgrians viles.\n",
            "\n",
            "PUMPERD:\n",
            "It that advouter:\n",
            "If ver have her.\n",
            "Must now sow I wish that my brunk\n",
            "But you renvenger am stand and of the loves mark own!\n",
            "'Dacking to the sid, to? so.\n",
            "Yet my singel I ranca: thou fult,\n",
            "An king this woulds no the said out\n",
            "offerds frul, I'll Rame, to beets nighm\n",
            "in hims adughted diernm.\n",
            "3 And Mow your whorth\n",
            "And whom fetch unto will rest:\n",
            "My brive, her his toward to that his sabired.\n",
            "But, prewer, sorrow lom if curner,\n",
            "But us so, tondury; wat's fastes for your heere whope snonet stand the father adviets Cappentriagh that brird\n",
            "of say mover a desrick.\n",
            "\n",
            "MONTAM:\n",
            "You he; give\n",
            "Nince, I is have.\n",
            "\n",
            "Set:\n",
            "BUCKINGHAM:\n",
            "Let requmal I upon me.\n",
            "\n",
            "HENRY BOLINGBRA:\n",
            "That wife the back with wowitte,\n",
            "Which bunnain fall more in in meept twate,\n",
            "You staves that high pray plate on bring.\n",
            "\n",
            "NORDUKE:\n",
            "The stituly, maint, yet having. But, the castions:\n",
            "O 'tis lace;--\n",
            "\n",
            "BUCKINGS:\n",
            "On; grave, before\n"
          ]
        }
      ]
    },
    {
      "cell_type": "code",
      "source": [],
      "metadata": {
        "id": "VyWUIBxvoJZc"
      },
      "execution_count": null,
      "outputs": []
    }
  ]
}